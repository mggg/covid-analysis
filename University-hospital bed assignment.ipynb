{
 "cells": [
  {
   "cell_type": "code",
   "execution_count": 1,
   "metadata": {},
   "outputs": [],
   "source": [
    "%config InlineBackend.figure_formats = ['svg']\n",
    "import cvxpy as cp\n",
    "import numpy as np\n",
    "import pandas as pd; pd.set_option('display.max_rows', 200)\n",
    "import geopandas as gpd\n",
    "import matplotlib.pyplot as plt\n",
    "from ed_institutions import load_ed_institutions"
   ]
  },
  {
   "cell_type": "code",
   "execution_count": 2,
   "metadata": {},
   "outputs": [
    {
     "ename": "SyntaxError",
     "evalue": "invalid syntax (<ipython-input-2-68abd1fc4183>, line 6)",
     "output_type": "error",
     "traceback": [
      "\u001b[0;36m  File \u001b[0;32m\"<ipython-input-2-68abd1fc4183>\"\u001b[0;36m, line \u001b[0;32m6\u001b[0m\n\u001b[0;31m    ed_inst_min_endowment = 50000000å\u001b[0m\n\u001b[0m                                    ^\u001b[0m\n\u001b[0;31mSyntaxError\u001b[0m\u001b[0;31m:\u001b[0m invalid syntax\n"
     ]
    }
   ],
   "source": [
    "# Tufts has ~90% of beds left right now (without accounting for inaccessible dorms?)\n",
    "# [Unknown] Is ~80% capacity over all universities a reasonable estimate?\n",
    "ed_inst_capacity = 0.8\n",
    "# This parameterization gives us 35 universities.\n",
    "ed_inst_min_beds = 500\n",
    "ed_inst_min_endowment = 50000000\n",
    "# Per Mike Apkon: each patient receives 12 person-hours of care per day (under normal conditions).\n",
    "# Assuming a 40-hour workweek, this implies 1.5 staff members are fully allocated to each patient on each day.\n",
    "# (Note: does this average include ICU patients? Presumably they get more care.)\n",
    "# General consensus seems to be that care per patient will *decrease* as hospitals get overloaded with COVID cases,\n",
    "# so consider staffing estimates to be an upper bound.\n",
    "staff_hours_per_day = 8\n",
    "staff_days_per_week = 5\n",
    "patient_person_hours_per_day = 12\n",
    "staff_per_patient = patient_person_hours_per_day / staff_hours_per_day\n",
    "# [Unknown] What percentage of non-COVID patients can be moved into a dorm?\n",
    "# (This parameter also encapsulates the fact that most patients probably need to present at the hospital\n",
    "#  and *then* moved to the dorms.)\n",
    "patient_bed_demand_pct = 0.5\n",
    "# [Unknown] What percentage of staff will want to stay in a dorm rather than going home?\n",
    "staff_bed_demand_pct = 0.5\n",
    "# [Unknown] We assume that staff is assigned to 100% of hospital+ICU beds at the peak of the outbreak.\n",
    "staff_utilized_pct = 1\n",
    "\n",
    "# TODO: not entirely sure of the relevance of these fudge factors -- \n",
    "#       shouldn't we just be able to get discharge rates empirically?\n",
    "community_discount = 0.5  # Discount community hospital normal occupancy by 50%\n",
    "academic_discount = 0.75  # Discount academic hospital normal occupancy by 75%\n",
    "\n",
    "# TODO: choose some reasonable parameters here! may need to do some sensitivity analysis\n",
    "staff_transport_cost_per_min = 1\n",
    "patient_transport_cost_per_min = 100\n",
    "\n",
    "# TODO: max distance cutoffs not implemented yet\n",
    "max_dist_min = 60\n",
    "\n",
    "crisis_length = 14  # in days\n",
    "staff_commutes = 2 * (crisis_length / staff_days_per_week)"
   ]
  },
  {
   "cell_type": "code",
   "execution_count": null,
   "metadata": {},
   "outputs": [],
   "source": [
    "# Ballpark parameters (to be replaced when more data comes in)\n",
    "avg_stay_days = 5\n",
    "patient_turnover = crisis_length / avg_stay_days\n",
    "# Normally, ~70% of beds are utilized in MA.\n",
    "normal_beds_utilized_pct = 0.7 "
   ]
  },
  {
   "cell_type": "markdown",
   "metadata": {},
   "source": [
    "## TODO\n",
    "* Geodata: where are the hospitals? (first pass: don't differentiate b/t acute and non-acute)\n",
    "* Geodata: where are the __filtered__ institutions? (join w/ ed. institutions spreadsheet\n",
    "* Plot: Hospitals, universities on MA HRRs (bubbles scaled for capacity)\n",
    "* Data: Hospital discharge rates (to calculate turnover) [can always just fake this and assume 5-day turnover or something]"
   ]
  },
  {
   "cell_type": "code",
   "execution_count": null,
   "metadata": {},
   "outputs": [],
   "source": [
    "proj = \"+proj=utm +zone=18N +ellps=WGS84 +datum=WGS84 +units=m +no_defs\"\n",
    "acute_care_gdf = gpd.read_file('data/Hospitals/Originals/acute_care_hospitals/HOSPITALS_PT.shp').to_crs(proj)\n",
    "non_acute_care_gdf = gpd.read_file('data/Hospitals/Originals/non_acute_care_hospitals/HOSPITALS_NONACUTE_PT.shp').to_crs(proj)\n",
    "state_outlines_gdf = gpd.read_file('data/cb_2018_us_state_500k/cb_2018_us_state_500k.shp').to_crs(proj)\n",
    "ed_inst_gdf = gpd.read_file('data/Universities/SHP_dormcap/ma_universities.shp').to_crs(proj)\n",
    "ma_outline_gdf = state_outlines_gdf[state_outlines_gdf['NAME'] == 'Massachusetts']"
   ]
  },
  {
   "cell_type": "code",
   "execution_count": null,
   "metadata": {},
   "outputs": [],
   "source": [
    "ed_inst_df = load_ed_institutions('data/ma_dorm_capacity.csv', ed_inst_min_endowment, 0)\n",
    "ed_inst_gdf = ed_inst_gdf[ed_inst_gdf.COLLEGE.isin(ed_inst_df.name)]\n",
    "ed_inst_gdf = ed_inst_gdf[ed_inst_gdf['DORMCAP'] >= ed_inst_min_beds].reset_index()"
   ]
  },
  {
   "cell_type": "code",
   "execution_count": null,
   "metadata": {},
   "outputs": [],
   "source": [
    "acute_care_gdf.columns"
   ]
  },
  {
   "cell_type": "code",
   "execution_count": null,
   "metadata": {},
   "outputs": [],
   "source": [
    "fig, ax = plt.subplots(figsize=(16, 8))\n",
    "base = ma_outline_gdf.plot(ax=ax, color='#e0e0e0')\n",
    "acute_care_gdf.plot(ax=base, marker='s', color='red', alpha=0.5,\n",
    "                    markersize=0.1 * acute_care_gdf['BEDCOUNT'])\n",
    "non_acute_care_gdf.plot(ax=base, marker='D', color='green', alpha=0.5,\n",
    "                        markersize=0.1 * non_acute_care_gdf['BEDCOUNT'])\n",
    "ed_inst_gdf.plot(ax=base, marker='o', color='blue', alpha=0.5,\n",
    "                 markersize=0.1 * ed_inst_gdf['DORMCAP'])\n",
    "plt.axis('off')\n",
    "plt.savefig('ma_beds.png', bbox_inches='tight', dpi=300)\n",
    "plt.show()"
   ]
  },
  {
   "cell_type": "code",
   "execution_count": null,
   "metadata": {},
   "outputs": [],
   "source": [
    "# We treat acute care hospitals and non-acute care hospitals similarly. \n",
    "acute_care_gdf['TYPE'] = 'acute'\n",
    "non_acute_care_gdf['TYPE'] = 'non-acute'\n",
    "hospitals_gdf = gpd.GeoDataFrame(pd.concat([\n",
    "    acute_care_gdf,\n",
    "    non_acute_care_gdf.rename(columns={'FAC_NAME': 'SHORTNAME'})\n",
    "])).drop(columns=set(acute_care_gdf.columns) - set(non_acute_care_gdf.columns)) \\\n",
    ".rename(columns={'SHORTNAME': 'NAME'})\n",
    "\n",
    "# Remove island hospitals from consideration (not accessible by road)\n",
    "hospitals_gdf = hospitals_gdf[(hospitals_gdf['TOWN'] != 'Oak Bluffs') & (hospitals_gdf['TOWN'] != 'Nantucket')]\n",
    "hospitals_gdf = hospitals_gdf.reset_index()\n",
    "\n",
    "# TODO: Remove hospitals not within X miles/minutes of an institution?"
   ]
  },
  {
   "cell_type": "code",
   "execution_count": null,
   "metadata": {},
   "outputs": [],
   "source": [
    "n_hosp = len(hospitals_gdf)\n",
    "n_ed = len(ed_inst_gdf)"
   ]
  },
  {
   "cell_type": "code",
   "execution_count": null,
   "metadata": {},
   "outputs": [],
   "source": [
    "# TODO: insert Olivia's road distances here!\n",
    "distances = np.zeros((n_hosp, n_ed))\n",
    "for hosp_idx, hosp_row in hospitals_gdf.iterrows():\n",
    "    for ed_idx, ed_row in ed_inst_gdf.iterrows():\n",
    "        dist = hosp_row.geometry.distance(ed_row.geometry)\n",
    "        distances[hosp_idx, ed_idx] = dist"
   ]
  },
  {
   "cell_type": "code",
   "execution_count": null,
   "metadata": {},
   "outputs": [],
   "source": [
    "dorm_bed_capacity = np.round(ed_inst_capacity * ed_inst_gdf['DORMCAP'].to_numpy())\n",
    "patient_bed_demand = np.round(normal_beds_utilized_pct * patient_bed_demand_pct * hospitals_gdf['BEDCOUNT'].to_numpy())\n",
    "staff_bed_demand = np.round(staff_per_patient * staff_bed_demand_pct * staff_utilized_pct * hospitals_gdf['BEDCOUNT'].to_numpy())"
   ]
  },
  {
   "cell_type": "code",
   "execution_count": null,
   "metadata": {},
   "outputs": [],
   "source": [
    "staff_assignment = cp.Variable((n_hosp, n_ed), integer=True)\n",
    "patient_assignment = cp.Variable((n_hosp, n_ed), integer=True)"
   ]
  },
  {
   "cell_type": "code",
   "execution_count": null,
   "metadata": {},
   "outputs": [],
   "source": [
    "constraints = [\n",
    "    staff_assignment >= 0,\n",
    "    patient_assignment >= 0,\n",
    "    cp.sum(staff_assignment, axis=0) + cp.sum(patient_assignment, axis=0) <= dorm_bed_capacity,\n",
    "    cp.sum(staff_assignment, axis=1) == staff_bed_demand,\n",
    "    cp.sum(patient_assignment, axis=1) == patient_bed_demand,\n",
    "]\n",
    "objective = cp.Minimize(cp.sum(\n",
    "    cp.multiply(distances, (\n",
    "        (staff_commutes * staff_transport_cost_per_min * staff_assignment) + \n",
    "        (patient_turnover * patient_transport_cost_per_min * patient_assignment)\n",
    "    ))\n",
    "))\n",
    "prob = cp.Problem(objective, constraints=constraints)"
   ]
  },
  {
   "cell_type": "code",
   "execution_count": null,
   "metadata": {},
   "outputs": [],
   "source": [
    "prob.solve()"
   ]
  },
  {
   "cell_type": "code",
   "execution_count": null,
   "metadata": {},
   "outputs": [],
   "source": [
    "staff_results = np.round(staff_assignment.value)\n",
    "patient_results = np.round(patient_assignment.value)"
   ]
  },
  {
   "cell_type": "code",
   "execution_count": null,
   "metadata": {},
   "outputs": [],
   "source": [
    "def plot_assignments(results):\n",
    "    fig, ax = plt.subplots(figsize=(16, 8))\n",
    "    base = ma_outline_gdf.plot(ax=ax, color='#e0e0e0')\n",
    "    hospitals_gdf.plot(ax=base, marker='s', color='red', alpha=0.5,\n",
    "                        markersize=0.1 * hospitals_gdf['BEDCOUNT'])\n",
    "    ed_inst_gdf.plot(ax=base, marker='o', color='blue', alpha=0.5,\n",
    "                     markersize=0.1 * ed_inst_gdf['DORMCAP'])\n",
    "\n",
    "    for hosp_idx in range(n_hosp):\n",
    "        for ed_idx in range(n_ed):\n",
    "            if results[hosp_idx, ed_idx] > 0:\n",
    "                p_hosp = hospitals_gdf.iloc[hosp_idx].geometry\n",
    "                p_ed = ed_inst_gdf.iloc[ed_idx].geometry\n",
    "                ax.plot([p_hosp.x, p_ed.x], [p_hosp.y, p_ed.y],\n",
    "                        color='black',\n",
    "                        linewidth=0.01 * results[hosp_idx, ed_idx])\n",
    "                \n",
    "    plt.axis('off')"
   ]
  },
  {
   "cell_type": "code",
   "execution_count": null,
   "metadata": {},
   "outputs": [],
   "source": [
    "plot_assignments(staff_results)\n",
    "plt.title('Staff assignments')\n",
    "plt.savefig('ma_staff_assignments.png', bbox_inches='tight', dpi=600)\n",
    "plt.show()"
   ]
  },
  {
   "cell_type": "code",
   "execution_count": null,
   "metadata": {},
   "outputs": [],
   "source": [
    "plot_assignments(patient_results)\n",
    "plt.title('Patient assignments')\n",
    "plt.savefig('ma_patient_assignments.png', bbox_inches='tight', dpi=600)\n",
    "plt.show()"
   ]
  },
  {
   "cell_type": "code",
   "execution_count": null,
   "metadata": {},
   "outputs": [],
   "source": [
    "staff_by_inst = np.sum(staff_results, axis=0)\n",
    "patients_by_inst = np.sum(patient_results, axis=0)\n",
    "ed_assignment_df = ed_inst_gdf[['COLLEGE', 'CAMPUS', 'CITY', 'ENDOW', 'DORMCAP']].copy()\n",
    "ed_assignment_df['staff_assigned'] = staff_by_inst\n",
    "ed_assignment_df['patients_assigned'] = patients_by_inst\n",
    "ed_assignment_df['utilization'] = (ed_assignment_df['staff_assigned'] + ed_assignment_df['patients_assigned']) / ed_assignment_df['DORMCAP']\n",
    "ed_assignment_df.to_csv('ed_inst_assignments.csv', index=False)"
   ]
  }
 ],
 "metadata": {
  "kernelspec": {
   "display_name": "Python 3",
   "language": "python",
   "name": "python3"
  },
  "language_info": {
   "codemirror_mode": {
    "name": "ipython",
    "version": 3
   },
   "file_extension": ".py",
   "mimetype": "text/x-python",
   "name": "python",
   "nbconvert_exporter": "python",
   "pygments_lexer": "ipython3",
   "version": "3.7.6"
  }
 },
 "nbformat": 4,
 "nbformat_minor": 4
}
